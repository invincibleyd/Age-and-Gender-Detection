{
  "nbformat": 4,
  "nbformat_minor": 0,
  "metadata": {
    "colab": {
      "provenance": []
    },
    "kernelspec": {
      "name": "python3",
      "display_name": "Python 3"
    },
    "language_info": {
      "name": "python"
    }
  },
  "cells": [
    {
      "cell_type": "code",
      "source": [
        "#installing cv2 and deepface\n",
        "import cv2"
      ],
      "metadata": {
        "id": "K-Od6Kh4Keqm"
      },
      "execution_count": null,
      "outputs": []
    },
    {
      "cell_type": "code",
      "source": [
        "#importing DeepFace\n",
        "from deepface import DeepFace"
      ],
      "metadata": {
        "id": "mTbNDN46K0hk"
      },
      "execution_count": null,
      "outputs": []
    },
    {
      "cell_type": "code",
      "source": [
        "#reading the images\n",
        "img1 = cv2.imread(\"p1.jpg\")\n",
        "img2 = cv2.imread(\"p2.jpg\")\n",
        "img3 = cv2.imread(\"p3.jpg\")\n",
        "img4 = cv2.imread(\"p4.jpg\")\n",
        "img5 = cv2.imread(\"p5.png\")"
      ],
      "metadata": {
        "id": "PnKsI_SBK5ag"
      },
      "execution_count": null,
      "outputs": []
    },
    {
      "cell_type": "code",
      "source": [
        "age1 = DeepFace.analyze(img1,actions =( \"age\" ))\n",
        "gender1 = DeepFace.analyze(img1,actions =(\"gender\" ))\n"
      ],
      "metadata": {
        "id": "Wg19SFrvL--L"
      },
      "execution_count": null,
      "outputs": []
    },
    {
      "cell_type": "code",
      "source": [
        "age2 = DeepFace.analyze(img2,actions =( \"age\" ))\n",
        "gender2 = DeepFace.analyze(img2,actions =( \"gender\" ))"
      ],
      "metadata": {
        "id": "Na9S_tRrSV8R"
      },
      "execution_count": null,
      "outputs": []
    },
    {
      "cell_type": "code",
      "source": [
        "age3 = DeepFace.analyze(img3,actions =( \"age\" ))\n",
        "gender3 = DeepFace.analyze(img3,actions =(\"gender\" ))"
      ],
      "metadata": {
        "id": "Frkc640USWHh"
      },
      "execution_count": null,
      "outputs": []
    },
    {
      "cell_type": "code",
      "source": [
        "age4 = DeepFace.analyze(img4,actions =(\"age\" ))\n",
        "gender4 = DeepFace.analyze(img4,actions =(\"gender\" ))"
      ],
      "metadata": {
        "id": "XFthPVJ4SW3g"
      },
      "execution_count": null,
      "outputs": []
    },
    {
      "cell_type": "code",
      "source": [
        "age5 = DeepFace.analyze(img5,actions =( \"age\" ))\n",
        "gender5 = DeepFace.analyze(img5,actions =(\"gender\" ))"
      ],
      "metadata": {
        "id": "shBqCte4SW7m"
      },
      "execution_count": null,
      "outputs": []
    },
    {
      "cell_type": "code",
      "source": [
        "print (age1)\n",
        "print (gender1)"
      ],
      "metadata": {
        "colab": {
          "base_uri": "https://localhost:8080/"
        },
        "id": "I__m9wK9SXEQ",
        "outputId": "359bb30a-34e7-4e83-a1df-23279203892f"
      },
      "execution_count": null,
      "outputs": [
        {
          "output_type": "stream",
          "name": "stdout",
          "text": [
            "[{'age': 31, 'region': {'x': 236, 'y': 53, 'w': 402, 'h': 402}, 'face_confidence': 9.623602079867851}]\n",
            "[{'gender': {'Woman': 7.1610502898693085, 'Man': 92.83894896507263}, 'dominant_gender': 'Man', 'region': {'x': 236, 'y': 53, 'w': 402, 'h': 402}, 'face_confidence': 9.623602079867851}]\n"
          ]
        }
      ]
    },
    {
      "cell_type": "code",
      "source": [
        "print (age2)\n",
        "print (gender2)"
      ],
      "metadata": {
        "colab": {
          "base_uri": "https://localhost:8080/"
        },
        "id": "gClMDTEVMYW6",
        "outputId": "0b0bbfce-6328-4a25-83be-ffd9e50bf67a"
      },
      "execution_count": null,
      "outputs": [
        {
          "output_type": "stream",
          "name": "stdout",
          "text": [
            "[{'age': 30, 'region': {'x': 202, 'y': 104, 'w': 214, 'h': 214}, 'face_confidence': 8.635487147781532}]\n",
            "[{'gender': {'Woman': 68.69528293609619, 'Man': 31.30471408367157}, 'dominant_gender': 'Woman', 'region': {'x': 202, 'y': 104, 'w': 214, 'h': 214}, 'face_confidence': 8.635487147781532}]\n"
          ]
        }
      ]
    },
    {
      "cell_type": "code",
      "source": [
        "print (age3)\n",
        "print (gender3)"
      ],
      "metadata": {
        "colab": {
          "base_uri": "https://localhost:8080/"
        },
        "id": "GwjsEFSvTA_F",
        "outputId": "cb38b3a5-78b6-45cd-def5-6d17ceeb9def"
      },
      "execution_count": null,
      "outputs": [
        {
          "output_type": "stream",
          "name": "stdout",
          "text": [
            "[{'age': 44, 'region': {'x': 214, 'y': 71, 'w': 180, 'h': 180}, 'face_confidence': 5.476472050126176}]\n",
            "[{'gender': {'Woman': 0.0004337399332143832, 'Man': 99.99957084655762}, 'dominant_gender': 'Man', 'region': {'x': 214, 'y': 71, 'w': 180, 'h': 180}, 'face_confidence': 5.476472050126176}]\n"
          ]
        }
      ]
    },
    {
      "cell_type": "code",
      "source": [
        "print (age4)\n",
        "print (gender4)"
      ],
      "metadata": {
        "colab": {
          "base_uri": "https://localhost:8080/"
        },
        "id": "ozkbUlWhTBD5",
        "outputId": "da36e04f-aff9-4785-f84d-b369b3705f74"
      },
      "execution_count": null,
      "outputs": [
        {
          "output_type": "stream",
          "name": "stdout",
          "text": [
            "[{'age': 33, 'region': {'x': 386, 'y': 128, 'w': 393, 'h': 393}, 'face_confidence': 7.845692026603501}]\n",
            "[{'gender': {'Woman': 0.0010461229976499453, 'Man': 99.99895095825195}, 'dominant_gender': 'Man', 'region': {'x': 386, 'y': 128, 'w': 393, 'h': 393}, 'face_confidence': 7.845692026603501}]\n"
          ]
        }
      ]
    },
    {
      "cell_type": "code",
      "source": [
        "print (age5)\n",
        "print (gender5)"
      ],
      "metadata": {
        "colab": {
          "base_uri": "https://localhost:8080/"
        },
        "id": "oamRXYxJTBNp",
        "outputId": "b876e0c6-725a-411e-a10e-78aed2ebfb10"
      },
      "execution_count": null,
      "outputs": [
        {
          "output_type": "stream",
          "name": "stdout",
          "text": [
            "[{'age': 48, 'region': {'x': 78, 'y': 47, 'w': 132, 'h': 132}, 'face_confidence': 6.65310721489368}]\n",
            "[{'gender': {'Woman': 0.20547083113342524, 'Man': 99.7945249080658}, 'dominant_gender': 'Man', 'region': {'x': 78, 'y': 47, 'w': 132, 'h': 132}, 'face_confidence': 6.65310721489368}]\n"
          ]
        }
      ]
    }
  ]
}